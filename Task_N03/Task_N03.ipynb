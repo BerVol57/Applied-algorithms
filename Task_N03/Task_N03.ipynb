{
 "cells": [
  {
   "cell_type": "markdown",
   "id": "5b5abd1f",
   "metadata": {},
   "source": [
    "# **Завдання №3: Порівняльний аналіз алгоритмів на графах**"
   ]
  },
  {
   "cell_type": "markdown",
   "id": "39ed6404",
   "metadata": {},
   "source": [
    "## **Мета роботи**\n",
    "Реалізувати алгоритми над графами, порівнювати їх роботу в залежності від способу представлення графу."
   ]
  },
  {
   "cell_type": "markdown",
   "id": "4de20971",
   "metadata": {},
   "source": [
    "## **Основне завдання**\n",
    "Вам необхідно реалізувати та порівняти ефективність деяких алгоритмів роботи на графах. Усі алгоритми  описано в курсі \"Дискретна математика\", відео лежать самі знаємо де. Завдання виконується згідно варіанту."
   ]
  },
  {
   "cell_type": "markdown",
   "id": "c15b965f",
   "metadata": {},
   "source": [
    "## Варіант №1\n",
    "Порівняти алгоритми обходу вершин BFS та DFS (у рекурсивному варіанті)."
   ]
  },
  {
   "cell_type": "markdown",
   "id": "5c10cf4a",
   "metadata": {},
   "source": [
    "Також ми можемо сформулювати власну дослідницьку задачу на графах, яка вам більш цікава, і, після узгодження її з викладачем, виконувати її замість свого варіанту.\n",
    "\n",
    "При порівнянні алгоритмів урахуйте такі нюанси.\n",
    "*   Порівняння повинно виконуватисб на графах різного розміру (кількість вершин ${n\\geq5}$) та різної шільності (варіюйте ймовірність появи ребра $p$).\n",
    "*   Урахуйте, що деякі алгоритми \"заточені\" під конкретні способи представлення графів (наприклад, алгоритми Уоршелла та Флойда-Уоршелла працюють тільки з матричним представленням, а алгоритми Дейкстри та Беллмана-Форда, хоча й можуть працювати у матричному представленні, значно більш ефективні над списками суміжності). Зробіть дизайн вашого експерементального дослідження із поправкою на ці особливості.\n",
    "*   Основним параметром порівняння є час виконання роботи. Для правильного вимірювання часу роботи необхідно виключити з оцінки усі можливі передобчислення та накладні витрати, які не пов'язані безпосередньо із роботою алгоритму (наприклад, перехід від одного представлення графу в інше).\n",
    "*   Для фільтрування так званого \"алгоритмічного шуму\" - витрати часу, пов'язаних із функціонуванням обчислювальної системи, - необхідно для кожного фіксованого набору значень параметрів виконати алгоритм значну кількість разів (наприклад, 100) та взяти усереднений час роботи. При цьому важливо, щоб на вхід алгоритму потрапляли випадкові вхідні дані, оскільки кеш L3 процесору запамятовує попередні обчислення. Час генерування випадкових даних не повинно включастись в оцінку часу роботи алгоритмів; генерування необхідно роботи заздалегіть."
   ]
  },
  {
   "cell_type": "markdown",
   "id": "aaed411f",
   "metadata": {},
   "source": [
    "Результати вашої роботи теж подаються у вигляді вже не дуже коротенького звіту, який повинен включати:\n",
    "*   постановку завдання, вибір та обґрунтування форми представлення графів, параметрів роботи алгоритмів;\n",
    "*   результати ваших обчислень у вигляді таблиць (точні значення) та у вигляді діаграм / гістограм / графіків тощо;\n",
    "*   інтерпретацію ваших даних: про що говорять одержані вами дані, які спостереження та твердження можна сформулювати на їх основі.\n",
    "\n",
    "Подумайте, яка форма візуалізації результатів буде найбільш інформативною для вашого дослідження."
   ]
  },
  {
   "cell_type": "code",
   "execution_count": 1,
   "id": "6e337307",
   "metadata": {},
   "outputs": [],
   "source": [
    "from MatrixGraph import NonOrientedMatrixGraph as nmg\n",
    "import matplotlib.pyplot as plt\n",
    "import time"
   ]
  },
  {
   "cell_type": "code",
   "execution_count": 28,
   "id": "5646626e",
   "metadata": {},
   "outputs": [
    {
     "name": "stdout",
     "output_type": "stream",
     "text": [
      "[[inf, 1, 1, 1, inf, inf, inf, inf]\n",
      " [1, inf, 1, inf, 1, inf, inf, inf]\n",
      " [1, 1, inf, inf, 1, 1, inf, inf]\n",
      " [1, inf, inf, inf, inf, 1, inf, inf]\n",
      " [inf, 1, 1, inf, inf, inf, 1, 1]\n",
      " [inf, inf, 1, 1, inf, inf, 1, 1]\n",
      " [inf, inf, inf, inf, 1, 1, inf, 1]\n",
      " [inf, inf, inf, inf, 1, 1, 1, inf]]\n",
      "\n"
     ]
    }
   ],
   "source": [
    "g = nmg(8)\n",
    "g.add_edge(0, 1)\n",
    "g.add_edge(0, 2)\n",
    "g.add_edge(0, 3)\n",
    "g.add_edge(1, 2)\n",
    "g.add_edge(1, 4)\n",
    "g.add_edge(2, 4)\n",
    "g.add_edge(2, 5)\n",
    "g.add_edge(3, 5)\n",
    "g.add_edge(4, 6)\n",
    "g.add_edge(4, 7)\n",
    "g.add_edge(5, 6)\n",
    "g.add_edge(5, 7)\n",
    "g.add_edge(6, 7)\n",
    "\n",
    "print(g)"
   ]
  },
  {
   "cell_type": "code",
   "execution_count": 37,
   "id": "bd09d271",
   "metadata": {},
   "outputs": [],
   "source": [
    "def dfs_u(graph: nmg, v, visited):\n",
    "    visited.append(v)\n",
    "    for u in range(graph.V):\n",
    "            if graph.matrix[v][u] == 1 and u not in visited:\n",
    "                dfs_u(graph, u, visited)\n",
    "\n",
    "\n",
    "def DFS(s, graph: nmg):\n",
    "    visited = []\n",
    "    dfs_u(graph, s, visited)\n",
    "    return visited"
   ]
  },
  {
   "cell_type": "code",
   "execution_count": 38,
   "id": "c50153c8",
   "metadata": {},
   "outputs": [
    {
     "name": "stdout",
     "output_type": "stream",
     "text": [
      "[0, 1, 2, 4, 6, 5, 3, 7]\n"
     ]
    }
   ],
   "source": [
    "print(DFS(0, g))"
   ]
  },
  {
   "cell_type": "code",
   "execution_count": 6,
   "id": "2e4a77ad",
   "metadata": {},
   "outputs": [],
   "source": [
    "def BFS(s, graph: nmg) -> nmg:\n",
    "    T = [s]\n",
    "    list_of_v = [s]\n",
    "    v = graph.V\n",
    "    while T != []:\n",
    "        i = T.pop(0)\n",
    "        for j in range(v):\n",
    "            if graph.matrix[i][j] == 1 and j not in list_of_v:\n",
    "                T.append(j)\n",
    "                list_of_v.append(j)\n",
    "    return list_of_v"
   ]
  },
  {
   "cell_type": "code",
   "execution_count": 7,
   "id": "5f857dbe",
   "metadata": {},
   "outputs": [
    {
     "name": "stdout",
     "output_type": "stream",
     "text": [
      "[0, 1, 2, 3, 4, 5, 6, 7]\n"
     ]
    }
   ],
   "source": [
    "print(BFS(0, g))"
   ]
  },
  {
   "cell_type": "markdown",
   "id": "c09d149e",
   "metadata": {},
   "source": [
    "Генерувати графи для дослідження"
   ]
  },
  {
   "cell_type": "code",
   "execution_count": 8,
   "id": "729fbdca",
   "metadata": {},
   "outputs": [],
   "source": [
    "def generate_graphs(size: int, amount: int, p: float) -> list:\n",
    "    list_g = []\n",
    "    for _ in range(amount):\n",
    "        new_graph = nmg(size)\n",
    "        new_graph.model_Erdasha_Renya(p)\n",
    "        list_g.append(new_graph)\n",
    "    return list_g"
   ]
  },
  {
   "cell_type": "code",
   "execution_count": 9,
   "id": "f07f24b2",
   "metadata": {},
   "outputs": [],
   "source": [
    "X = list(range(10, 1001, 20))"
   ]
  },
  {
   "cell_type": "code",
   "execution_count": 10,
   "id": "ce8a37ad",
   "metadata": {},
   "outputs": [],
   "source": [
    "Y_dfs = []\n",
    "for x in X:\n",
    "    gg = generate_graphs(x, 200, 0.8)\n",
    "    start_time = time.time()"
   ]
  },
  {
   "cell_type": "code",
   "execution_count": 11,
   "id": "8a31b44f",
   "metadata": {},
   "outputs": [],
   "source": [
    "Y_bfs = []"
   ]
  },
  {
   "cell_type": "code",
   "execution_count": null,
   "id": "1e6140fc",
   "metadata": {},
   "outputs": [],
   "source": []
  }
 ],
 "metadata": {
  "kernelspec": {
   "display_name": "venv_task_n03",
   "language": "python",
   "name": "python3"
  },
  "language_info": {
   "codemirror_mode": {
    "name": "ipython",
    "version": 3
   },
   "file_extension": ".py",
   "mimetype": "text/x-python",
   "name": "python",
   "nbconvert_exporter": "python",
   "pygments_lexer": "ipython3",
   "version": "3.12.1"
  }
 },
 "nbformat": 4,
 "nbformat_minor": 5
}
