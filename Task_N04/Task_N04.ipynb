{
 "cells": [
  {
   "cell_type": "code",
   "execution_count": 1,
   "id": "c5bd4832-db0d-4cfd-89ef-b69169b04462",
   "metadata": {},
   "outputs": [],
   "source": [
    "from UnionFind import *\n",
    "from MatrixGraph import NonOrientedWeightedMatrixGraph as nwg"
   ]
  },
  {
   "cell_type": "code",
   "execution_count": 2,
   "id": "7e451228",
   "metadata": {},
   "outputs": [
    {
     "name": "stdout",
     "output_type": "stream",
     "text": [
      "R:{0: 0, 1: 1, 2: 2, 3: 3}\n",
      "List:{0: 0, 1: 1, 2: 2, 3: 3}\n",
      "Next:{0: None, 1: None, 2: None, 3: None}\n",
      "Size:{0: 1, 1: 1, 2: 1, 3: 1}\n",
      "Internal:{0: 0, 1: 1, 2: 2, 3: 3}\n",
      "External:{0: 0, 1: 1, 2: 2, 3: 3}\n"
     ]
    }
   ],
   "source": [
    "Arr = UnionFind(4)\n",
    "Arr.show()"
   ]
  },
  {
   "cell_type": "code",
   "execution_count": 3,
   "id": "a6200f65",
   "metadata": {},
   "outputs": [
    {
     "name": "stdout",
     "output_type": "stream",
     "text": [
      "R:{0: 0, 1: 2, 2: 2, 3: 3}\n",
      "List:{0: 0, 2: 1, 3: 3}\n",
      "Next:{0: None, 1: 2, 2: None, 3: None}\n",
      "Size:{0: 1, 2: 2, 3: 1}\n",
      "Internal:{0: 0, 1: 2, 2: 2, 3: 3}\n",
      "External:{0: 0, 1: 1, 2: 1, 3: 3}\n"
     ]
    }
   ],
   "source": [
    "Arr.Union(1, 2)\n",
    "Arr.show()"
   ]
  },
  {
   "cell_type": "code",
   "execution_count": 4,
   "id": "871536be",
   "metadata": {},
   "outputs": [
    {
     "name": "stdout",
     "output_type": "stream",
     "text": [
      "R:{0: 0, 1: 2, 2: 2, 3: 3, 4: 4}\n",
      "List:{0: 0, 2: 1, 3: 3, 4: 4}\n",
      "Next:{0: None, 1: 2, 2: None, 3: None, 4: None}\n",
      "Size:{0: 1, 2: 2, 3: 1, 4: 1}\n",
      "Internal:{0: 0, 1: 2, 2: 2, 3: 3, 5: 4}\n",
      "External:{0: 0, 1: 1, 2: 1, 3: 3, 4: 5}\n"
     ]
    }
   ],
   "source": [
    "Arr.MakeSet()\n",
    "Arr.show()"
   ]
  },
  {
   "cell_type": "code",
   "execution_count": 5,
   "id": "15901fd7",
   "metadata": {},
   "outputs": [
    {
     "name": "stdout",
     "output_type": "stream",
     "text": [
      "R:{0: 0, 1: 2, 2: 2, 3: 3, 4: 2}\n",
      "List:{0: 0, 2: 4, 3: 3}\n",
      "Next:{0: None, 1: 2, 2: None, 3: None, 4: 1}\n",
      "Size:{0: 1, 2: 3, 3: 1}\n",
      "Internal:{0: 0, 1: 2, 2: 2, 3: 3, 5: 4}\n",
      "External:{0: 0, 1: 1, 2: 2, 3: 3, 4: 5}\n"
     ]
    }
   ],
   "source": [
    "Arr.Union(2, 4)\n",
    "Arr.show()"
   ]
  },
  {
   "cell_type": "code",
   "execution_count": 6,
   "id": "6391c9a2",
   "metadata": {},
   "outputs": [
    {
     "name": "stdout",
     "output_type": "stream",
     "text": [
      "[[inf, 7.387018068095571, 4.276339233098266, -7.281641761158979, 7.419897456969181]\n",
      " [7.387018068095571, inf, -3.740671886866971, 5.289325099767163, 4.350736804089099]\n",
      " [4.276339233098266, -3.740671886866971, inf, -9.169902295099124, -0.6051170393830567]\n",
      " [-7.281641761158979, 5.289325099767163, -9.169902295099124, inf, 0.5903382622468953]\n",
      " [7.419897456969181, 4.350736804089099, -0.6051170393830567, 0.5903382622468953, inf]]\n",
      "\n"
     ]
    }
   ],
   "source": [
    "Graph = nwg(5)\n",
    "Graph.model_Erdasha_Renya(0.8)\n",
    "print(Graph)"
   ]
  },
  {
   "cell_type": "code",
   "execution_count": 7,
   "id": "10639926",
   "metadata": {},
   "outputs": [],
   "source": [
    "def matrix2uvw(matrix):\n",
    "    res = []\n",
    "    len_matrix = len(matrix)\n",
    "    for u in range(len_matrix):\n",
    "        for v in range(len_matrix):\n",
    "            res.append((u, v, matrix[u][v]))\n",
    "    return res"
   ]
  },
  {
   "cell_type": "code",
   "execution_count": 8,
   "id": "5102f3c4",
   "metadata": {},
   "outputs": [
    {
     "name": "stdout",
     "output_type": "stream",
     "text": [
      "[(0, 0, inf), (0, 1, 7.387018068095571), (0, 2, 4.276339233098266), (0, 3, -7.281641761158979), (0, 4, 7.419897456969181), (1, 0, 7.387018068095571), (1, 1, inf), (1, 2, -3.740671886866971), (1, 3, 5.289325099767163), (1, 4, 4.350736804089099), (2, 0, 4.276339233098266), (2, 1, -3.740671886866971), (2, 2, inf), (2, 3, -9.169902295099124), (2, 4, -0.6051170393830567), (3, 0, -7.281641761158979), (3, 1, 5.289325099767163), (3, 2, -9.169902295099124), (3, 3, inf), (3, 4, 0.5903382622468953), (4, 0, 7.419897456969181), (4, 1, 4.350736804089099), (4, 2, -0.6051170393830567), (4, 3, 0.5903382622468953), (4, 4, inf)]\n"
     ]
    }
   ],
   "source": [
    "print(matrix2uvw(Graph.matrix))"
   ]
  },
  {
   "cell_type": "code",
   "execution_count": 9,
   "id": "9814c27e",
   "metadata": {},
   "outputs": [],
   "source": [
    "import time\n",
    "\n",
    "def Kruskal(graph : nwg):\n",
    "    V = graph.V\n",
    "    edges = matrix2uvw(graph.matrix)\n",
    "\n",
    "    edges.sort(key=lambda x: x[2])\n",
    "    edges = edges[::2]\n",
    "\n",
    "    mst = []\n",
    "\n",
    "    UF = UnionFind(V)\n",
    "\n",
    "    start_time = time.time()\n",
    "\n",
    "    for u, v, w in edges:\n",
    "        if UF.Find(u) != UF.Find(v):\n",
    "            UF.Union(u, v)\n",
    "            mst.append((u, v, w))\n",
    "\n",
    "    return mst, time.time()-start_time"
   ]
  },
  {
   "cell_type": "code",
   "execution_count": 10,
   "id": "bbcf64d1",
   "metadata": {},
   "outputs": [
    {
     "data": {
      "text/plain": [
       "([(2, 3, -9.169902295099124),\n",
       "  (0, 3, -7.281641761158979),\n",
       "  (1, 2, -3.740671886866971),\n",
       "  (2, 4, -0.6051170393830567)],\n",
       " 0.0)"
      ]
     },
     "execution_count": 10,
     "metadata": {},
     "output_type": "execute_result"
    }
   ],
   "source": [
    "Kruskal(Graph)"
   ]
  },
  {
   "cell_type": "code",
   "execution_count": 11,
   "id": "66381b88",
   "metadata": {},
   "outputs": [],
   "source": [
    "def get_graphs(size_graphs: int, amount: int) -> list:\n",
    "    graphs = [nwg(size_graphs) for _ in range(amount)]\n",
    "    for g in graphs:\n",
    "        g.model_Erdasha_Renya(0.8)\n",
    "    return graphs"
   ]
  },
  {
   "cell_type": "code",
   "execution_count": 12,
   "id": "df4facb1",
   "metadata": {},
   "outputs": [
    {
     "name": "stdout",
     "output_type": "stream",
     "text": [
      "[10, 110, 210, 310, 410, 510, 610, 710, 810, 910]\n",
      "------------------------\n",
      "[0.0, 0.0004988670349121094, 0.0022996902465820313, 0.005712890625, 0.014261269569396972, 0.037906765937805176, 0.05514364242553711, 0.09709641933441163, 0.11173665523529053, 0.12335789203643799]\n"
     ]
    }
   ],
   "source": [
    "X = list(range(10, 1001, 100))\n",
    "Y = []\n",
    "for x in X:\n",
    "    time_ = 0\n",
    "    for g in get_graphs(x, 10):\n",
    "        time_ += Kruskal(g)[1]\n",
    "    Y.append(time_/10)\n",
    "print(X)\n",
    "print(\"------------------------\")\n",
    "print(Y)"
   ]
  },
  {
   "cell_type": "code",
   "execution_count": 13,
   "id": "ceeeb844",
   "metadata": {},
   "outputs": [
    {
     "data": {
      "text/plain": [
       "Text(0, 0.5, 'Час виконання')"
      ]
     },
     "execution_count": 13,
     "metadata": {},
     "output_type": "execute_result"
    },
    {
     "data": {
      "image/png": "[encoded data removed]",
      "text/plain": [
       "<Figure size 640x480 with 1 Axes>"
      ]
     },
     "metadata": {},
     "output_type": "display_data"
    }
   ],
   "source": [
    "import matplotlib.pyplot as plt\n",
    "plt.plot(X, Y)\n",
    "plt.xlabel(\"Кількість вершин\")\n",
    "plt.ylabel(\"Час виконання\")"
   ]
  },
  {
   "cell_type": "code",
   "execution_count": null,
   "id": "28d05f15",
   "metadata": {},
   "outputs": [],
   "source": []
  }
 ],
 "metadata": {
  "kernelspec": {
   "display_name": "Python 3 (ipykernel)",
   "language": "python",
   "name": "python3"
  },
  "language_info": {
   "codemirror_mode": {
    "name": "ipython",
    "version": 3
   },
   "file_extension": ".py",
   "mimetype": "text/x-python",
   "name": "python",
   "nbconvert_exporter": "python",
   "pygments_lexer": "ipython3",
   "version": "3.12.1"
  }
 },
 "nbformat": 4,
 "nbformat_minor": 5
}
