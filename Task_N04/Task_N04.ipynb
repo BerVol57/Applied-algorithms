{
 "cells": [
  {
   "cell_type": "code",
   "execution_count": 1,
   "id": "c5bd4832-db0d-4cfd-89ef-b69169b04462",
   "metadata": {},
   "outputs": [],
   "source": [
    "from UnionFind import *\n",
    "from MatrixGraph import NonOrientedWeightedMatrixGraph as nwg"
   ]
  },
  {
   "cell_type": "code",
   "execution_count": 2,
   "id": "7e451228",
   "metadata": {},
   "outputs": [
    {
     "name": "stdout",
     "output_type": "stream",
     "text": [
      "R:{0: 0, 1: 1, 2: 2, 3: 3}\n",
      "List:{0: 0, 1: 1, 2: 2, 3: 3}\n",
      "Next:{0: None, 1: None, 2: None, 3: None}\n",
      "Size:{0: 1, 1: 1, 2: 1, 3: 1}\n",
      "Internal:{0: 0, 1: 1, 2: 2, 3: 3}\n",
      "External:{0: 0, 1: 1, 2: 2, 3: 3}\n"
     ]
    }
   ],
   "source": [
    "Arr = UnionFind(4)\n",
    "Arr.show()"
   ]
  },
  {
   "cell_type": "code",
   "execution_count": 3,
   "id": "a6200f65",
   "metadata": {},
   "outputs": [
    {
     "name": "stdout",
     "output_type": "stream",
     "text": [
      "R:{0: 0, 1: 2, 2: 2, 3: 3}\n",
      "List:{0: 0, 2: 1, 3: 3}\n",
      "Next:{0: None, 1: 2, 2: None, 3: None}\n",
      "Size:{0: 1, 2: 2, 3: 1}\n",
      "Internal:{0: 0, 1: 2, 2: 2, 3: 3}\n",
      "External:{0: 0, 1: 1, 2: 1, 3: 3}\n"
     ]
    }
   ],
   "source": [
    "Arr.Union(1, 2)\n",
    "Arr.show()"
   ]
  },
  {
   "cell_type": "code",
   "execution_count": 4,
   "id": "871536be",
   "metadata": {},
   "outputs": [
    {
     "name": "stdout",
     "output_type": "stream",
     "text": [
      "R:{0: 0, 1: 2, 2: 2, 3: 3, 4: 4}\n",
      "List:{0: 0, 2: 1, 3: 3, 4: 4}\n",
      "Next:{0: None, 1: 2, 2: None, 3: None, 4: None}\n",
      "Size:{0: 1, 2: 2, 3: 1, 4: 1}\n",
      "Internal:{0: 0, 1: 2, 2: 2, 3: 3, 5: 4}\n",
      "External:{0: 0, 1: 1, 2: 1, 3: 3, 4: 5}\n"
     ]
    }
   ],
   "source": [
    "Arr.MakeSet()\n",
    "Arr.show()"
   ]
  },
  {
   "cell_type": "code",
   "execution_count": 5,
   "id": "15901fd7",
   "metadata": {},
   "outputs": [
    {
     "name": "stdout",
     "output_type": "stream",
     "text": [
      "R:{0: 0, 1: 2, 2: 2, 3: 3, 4: 2}\n",
      "List:{0: 0, 2: 4, 3: 3}\n",
      "Next:{0: None, 1: 2, 2: None, 3: None, 4: 1}\n",
      "Size:{0: 1, 2: 3, 3: 1}\n",
      "Internal:{0: 0, 1: 2, 2: 2, 3: 3, 5: 4}\n",
      "External:{0: 0, 1: 1, 2: 2, 3: 3, 4: 5}\n"
     ]
    }
   ],
   "source": [
    "Arr.Union(2, 4)\n",
    "Arr.show()"
   ]
  },
  {
   "cell_type": "code",
   "execution_count": 6,
   "id": "6391c9a2",
   "metadata": {},
   "outputs": [
    {
     "name": "stdout",
     "output_type": "stream",
     "text": [
      "[[inf, -3.1885067319304916, 7.100243550079213, 6.995469770372122, -2.642972825340035]\n",
      " [-3.1885067319304916, inf, 7.876512879567066, 0.831470209090341, 9.013719506161134]\n",
      " [7.100243550079213, 7.876512879567066, inf, -5.430483826529928, -6.228129000671809]\n",
      " [6.995469770372122, 0.831470209090341, -5.430483826529928, inf, -4.322688648405557]\n",
      " [-2.642972825340035, 9.013719506161134, -6.228129000671809, -4.322688648405557, inf]]\n",
      "\n"
     ]
    }
   ],
   "source": [
    "Graph = nwg(5)\n",
    "Graph.model_Erdasha_Renya(0.8)\n",
    "print(Graph)"
   ]
  },
  {
   "cell_type": "code",
   "execution_count": 7,
   "id": "10639926",
   "metadata": {},
   "outputs": [],
   "source": [
    "def matrix2uvw(matrix):\n",
    "    res = []\n",
    "    len_matrix = len(matrix)\n",
    "    for u in range(len_matrix):\n",
    "        for v in range(len_matrix):\n",
    "            res.append((u, v, matrix[u][v]))\n",
    "    return res"
   ]
  },
  {
   "cell_type": "code",
   "execution_count": 8,
   "id": "5102f3c4",
   "metadata": {},
   "outputs": [
    {
     "name": "stdout",
     "output_type": "stream",
     "text": [
      "[(0, 0, inf), (0, 1, -3.1885067319304916), (0, 2, 7.100243550079213), (0, 3, 6.995469770372122), (0, 4, -2.642972825340035), (1, 0, -3.1885067319304916), (1, 1, inf), (1, 2, 7.876512879567066), (1, 3, 0.831470209090341), (1, 4, 9.013719506161134), (2, 0, 7.100243550079213), (2, 1, 7.876512879567066), (2, 2, inf), (2, 3, -5.430483826529928), (2, 4, -6.228129000671809), (3, 0, 6.995469770372122), (3, 1, 0.831470209090341), (3, 2, -5.430483826529928), (3, 3, inf), (3, 4, -4.322688648405557), (4, 0, -2.642972825340035), (4, 1, 9.013719506161134), (4, 2, -6.228129000671809), (4, 3, -4.322688648405557), (4, 4, inf)]\n"
     ]
    }
   ],
   "source": [
    "print(matrix2uvw(Graph.matrix))"
   ]
  },
  {
   "cell_type": "code",
   "execution_count": 9,
   "id": "9814c27e",
   "metadata": {},
   "outputs": [],
   "source": [
    "import time\n",
    "\n",
    "def Kruskal(graph : nwg):\n",
    "    V = graph.V\n",
    "    edges = matrix2uvw(graph.matrix)\n",
    "\n",
    "    edges.sort(key=lambda x: x[2])\n",
    "    edges = edges[::2]\n",
    "\n",
    "    mst = []\n",
    "\n",
    "    UF = UnionFind(V)\n",
    "\n",
    "    start_time = time.time()\n",
    "\n",
    "    for u, v, w in edges:\n",
    "        if UF.Find(u) != UF.Find(v):\n",
    "            UF.Union(u, v)\n",
    "            mst.append((u, v, w))\n",
    "\n",
    "    return mst, time.time()-start_time"
   ]
  },
  {
   "cell_type": "code",
   "execution_count": 10,
   "id": "bbcf64d1",
   "metadata": {},
   "outputs": [
    {
     "data": {
      "text/plain": [
       "([(2, 4, -6.228129000671809),\n",
       "  (2, 3, -5.430483826529928),\n",
       "  (0, 1, -3.1885067319304916),\n",
       "  (0, 4, -2.642972825340035)],\n",
       " 0.0)"
      ]
     },
     "execution_count": 10,
     "metadata": {},
     "output_type": "execute_result"
    }
   ],
   "source": [
    "Kruskal(Graph)"
   ]
  },
  {
   "cell_type": "code",
   "execution_count": 11,
   "id": "66381b88",
   "metadata": {},
   "outputs": [],
   "source": [
    "def get_graphs(size_graphs: int, amount: int) -> list:\n",
    "    graphs = [nwg(size_graphs) for _ in range(amount)]\n",
    "    for g in graphs:\n",
    "        g.model_Erdasha_Renya(0.8)\n",
    "    return graphs"
   ]
  },
  {
   "cell_type": "code",
   "execution_count": 12,
   "id": "df4facb1",
   "metadata": {},
   "outputs": [
    {
     "name": "stdout",
     "output_type": "stream",
     "text": [
      "[10, 110, 210, 310, 410, 510, 610, 710, 810, 910]\n",
      "------------------------\n",
      "[0.0, 0.005819249153137207, 0.022731924057006837, 0.05846636295318604, 0.13758668899536133, 0.32527544498443606, 0.5307080984115601, 0.7354490756988525, 1.0459375143051148, 1.303899598121643]\n"
     ]
    }
   ],
   "source": [
    "X = list(range(10, 1001, 100))\n",
    "Y = []\n",
    "for x in X:\n",
    "    time_ = 0\n",
    "    for g in get_graphs(x, 10):\n",
    "        time_ += Kruskal(g)[1]\n",
    "    Y.append(time_/10)\n",
    "print(X)\n",
    "print(\"------------------------\")\n",
    "print(Y)"
   ]
  },
  {
   "cell_type": "code",
   "execution_count": 15,
   "id": "ceeeb844",
   "metadata": {},
   "outputs": [
    {
     "ename": "ModuleNotFoundError",
     "evalue": "No module named 'matplotlib'",
     "output_type": "error",
     "traceback": [
      "\u001b[1;31m---------------------------------------------------------------------------\u001b[0m",
      "\u001b[1;31mModuleNotFoundError\u001b[0m                       Traceback (most recent call last)",
      "Cell \u001b[1;32mIn[15], line 1\u001b[0m\n\u001b[1;32m----> 1\u001b[0m \u001b[38;5;28;01mimport\u001b[39;00m \u001b[38;5;21;01mmatplotlib\u001b[39;00m\u001b[38;5;21;01m.\u001b[39;00m\u001b[38;5;21;01mpyplot\u001b[39;00m \u001b[38;5;28;01mas\u001b[39;00m \u001b[38;5;21;01mplt\u001b[39;00m\n\u001b[0;32m      2\u001b[0m plt\u001b[38;5;241m.\u001b[39mplot(X, Y)\n\u001b[0;32m      3\u001b[0m plt\u001b[38;5;241m.\u001b[39mxlabel(\u001b[38;5;124m\"\u001b[39m\u001b[38;5;124mКількість вершин\u001b[39m\u001b[38;5;124m\"\u001b[39m)\n",
      "\u001b[1;31mModuleNotFoundError\u001b[0m: No module named 'matplotlib'"
     ]
    }
   ],
   "source": [
    "import matplotlib.pyplot as plt\n",
    "plt.plot(X, Y)\n",
    "plt.xlabel(\"Кількість вершин\")\n",
    "plt.ylabel(\"Час виконання\")"
   ]
  },
  {
   "cell_type": "code",
   "execution_count": null,
   "id": "28d05f15",
   "metadata": {},
   "outputs": [],
   "source": []
  }
 ],
 "metadata": {
  "kernelspec": {
   "display_name": "venv_task_n04",
   "language": "python",
   "name": "python3"
  },
  "language_info": {
   "codemirror_mode": {
    "name": "ipython",
    "version": 3
   },
   "file_extension": ".py",
   "mimetype": "text/x-python",
   "name": "python",
   "nbconvert_exporter": "python",
   "pygments_lexer": "ipython3",
   "version": "3.12.1"
  }
 },
 "nbformat": 4,
 "nbformat_minor": 5
}
