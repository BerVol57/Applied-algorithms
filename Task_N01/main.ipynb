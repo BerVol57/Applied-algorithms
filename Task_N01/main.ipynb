{
 "cells": [
  {
   "cell_type": "markdown",
   "id": "a41ae1d9-feb5-4c44-8def-bc3ddcff0cfe",
   "metadata": {},
   "source": [
    "<h2 align=\"center\">Завдання №1: Реалізація типу \"множина\"</h1>"
   ]
  },
  {
   "cell_type": "markdown",
   "id": "745fb3bd-c842-4786-b176-cb3cd34ce8eb",
   "metadata": {},
   "source": [
    "#### Мета роботи\n",
    "    Опанувати способи представлення множини та їх ефективної реалізації, проаналізувати швидкість роботи операцій над множинамиу заданій реалізації."
   ]
  },
  {
   "cell_type": "markdown",
   "id": "0680c96a-6e2c-4064-be1a-40273134f57c",
   "metadata": {},
   "source": [
    "#### Основне завдання\n",
    "\n",
    "1. Реалізувати тип \"множинна\" одним із способів, згідно з варіантом.\n",
    "2. Реалізувати базові операції над множинами: включення елементу у множину (Insert), видалення елементу з множини (Delete), перевірку наявності елементу в множині (Search), очистку множини (Clear).\n",
    "3. Реалізувати додаткові операції над множинами: об'єднання множини (Union), перетин множин (Intersection), різницю множин (SetDifference), симетричну різницю множин (SymDifference), перевріку, чи є одна множина підсножинною іншої (IsSubset).\n",
    "4. Провести експерементальне визначення часу роботи операцій в залежності від розміру множини."
   ]
  },
  {
   "cell_type": "markdown",
   "id": "0062637d-a3ba-441b-b32e-f48a404f2de4",
   "metadata": {},
   "source": [
    "#### Варіант №1\n",
    "Реалізація множини за допомогою списків. Елементи можуть бути довільними та різнорідними (необмежений універсум)"
   ]
  },
  {
   "cell_type": "markdown",
   "id": "a3a27f42-b4cd-4737-bfa3-f5cb9735dbb4",
   "metadata": {},
   "source": [
    "Зауважимо, що для коректної оцінки часу виконання необхідно орієнтуватись на такі вимоги:\n",
    "\n",
    "1. Замір часу необхідно виконувати на виподкових даних, і для кожного експеременту та фіксованих значеннях параметрів необхідно провести щонайменше 1000 експерементій; підсумкове знаення часу є усередненням від усіх замірів.\n",
    "2. Далі для експерементів (тобто, випадкові множини заданого розміру) необхідно згенерувати заздалегіть, щоб час генерування не включався у замір.\n",
    "3. Для аналізу операції Search доцільно розглядати окремо випадки пошуку елементу, який є у множині, та якого у множині нема.\n",
    "4. Одержані результати зручно подавати у вигляді графіка \"Розмір мнодини - Час виконання операції\""
   ]
  },
  {
   "cell_type": "code",
   "execution_count": 1,
   "id": "35d1e7fa-92fe-4c4b-907f-4c9b071f6cda",
   "metadata": {},
   "outputs": [],
   "source": [
    "from __future__ import annotations\n",
    "# LimkedList\n",
    "class Node:\n",
    "    next_node: Node = None\n",
    "    def __init__(self, val) -> None:\n",
    "        self.val = val\n",
    "        \n",
    "\n",
    "class ListSet:\n",
    "    First: Node = None\n",
    "\n",
    "    def Search(self, search_val) -> bool:\n",
    "        current_node = self.First\n",
    "        while current_node:\n",
    "            if current_node.val == search_val:\n",
    "                return True\n",
    "            else:\n",
    "                current_node = current_node.next_node\n",
    "        return False\n",
    "\n",
    "    def Insert(self, val) -> None:\n",
    "        new_node = Node(val)\n",
    "        if self.First is None:\n",
    "            self.First = new_node\n",
    "            return\n",
    "\n",
    "        current_node = self.First\n",
    "        while current_node.next_node:\n",
    "            if current_node.val == val:\n",
    "                return\n",
    "            else:\n",
    "                current_node = current_node.next_node\n",
    "        current_node.next_node = new_node\n",
    "\n",
    "    def Delete(self, val) -> None:\n",
    "        current_node = self.First\n",
    "\n",
    "        if current_node.val == val:\n",
    "            self.First = self.First.next_node\n",
    "        while current_node is not None and current_node.next_node.val != val:\n",
    "            current_node = current_node.next_node\n",
    "\n",
    "        if current_node is None:\n",
    "            return\n",
    "        else:\n",
    "            current_node.next_node = current_node.next_node.next_node\n",
    "\n",
    "    def __str__(self) -> str:\n",
    "        current_node = self.First\n",
    "        res_str = \"{\"\n",
    "        while current_node:\n",
    "            res_str += \" \"+str(current_node.val)\n",
    "            current_node = current_node.next_node\n",
    "        res_str += \"}\"\n",
    "        return res_str\n",
    "            \n",
    "            "
   ]
  },
  {
   "cell_type": "code",
   "execution_count": 2,
   "id": "96e43926-23ad-4018-a3da-f1da20ed6bb8",
   "metadata": {},
   "outputs": [
    {
     "name": "stdout",
     "output_type": "stream",
     "text": [
      "A:{ 1 2 3 4 5 6}\n",
      "B:{ 3 4 5 6 7 8 9}\n"
     ]
    }
   ],
   "source": [
    "A = ListSet()\n",
    "A.Insert(1)\n",
    "A.Insert(2)\n",
    "A.Insert(3)\n",
    "A.Insert(4)\n",
    "A.Insert(5)\n",
    "A.Insert(6)\n",
    "print(f\"A:{A}\")\n",
    "B = ListSet()\n",
    "B.Insert(3)\n",
    "B.Insert(4)\n",
    "B.Insert(5)\n",
    "B.Insert(6)\n",
    "B.Insert(7)\n",
    "B.Insert(8)\n",
    "B.Insert(9)\n",
    "print(f\"B:{B}\")"
   ]
  },
  {
   "cell_type": "code",
   "execution_count": 3,
   "id": "e20aa2de-4208-4136-8bd7-84f2dd954b1c",
   "metadata": {},
   "outputs": [],
   "source": [
    "def Union(A: ListSet, B: ListSet) -> ListSet:\n",
    "    B_node = B.First\n",
    "    res = A\n",
    "    while B_node:\n",
    "        if not A.Search(B_node.val):\n",
    "            res.Insert(B_node.val)\n",
    "        B_node = B_node.next_node\n",
    "        \n",
    "    return res\n",
    "    "
   ]
  },
  {
   "cell_type": "code",
   "execution_count": 4,
   "id": "c36ddeca-5ba8-4058-8604-64c0a8c4a51d",
   "metadata": {},
   "outputs": [
    {
     "name": "stdout",
     "output_type": "stream",
     "text": [
      "{ 1 2 3 4 5 6 7 8 9}\n"
     ]
    }
   ],
   "source": [
    "print(Union(A, B))"
   ]
  },
  {
   "cell_type": "code",
   "execution_count": 5,
   "id": "1f2937a4-6ca7-4f49-9423-8314a05581a6",
   "metadata": {},
   "outputs": [],
   "source": [
    "def Intersection(A: ListSet, B: ListSet) -> ListSet:\n",
    "    B_node = B.First\n",
    "    res = ListSet()\n",
    "    while B_node:\n",
    "        if A.Search(B_node.val):\n",
    "            res.Insert(B_node.val)\n",
    "        B_node = B_node.next_node\n",
    "    return res\n",
    "    "
   ]
  },
  {
   "cell_type": "code",
   "execution_count": 6,
   "id": "9ad998a9-d433-449d-9535-bcc95b70b349",
   "metadata": {},
   "outputs": [
    {
     "name": "stdout",
     "output_type": "stream",
     "text": [
      "{ 3 4 5 6 7 8 9}\n"
     ]
    }
   ],
   "source": [
    "print(Intersection(A, B))"
   ]
  },
  {
   "cell_type": "code",
   "execution_count": 7,
   "id": "25bab1a0-2ff6-447f-a232-c180a3a12bf7",
   "metadata": {},
   "outputs": [],
   "source": [
    "def SetDifference(A: ListSet, B: ListSet) -> ListSet:\n",
    "    B_node = B.First\n",
    "    res = A\n",
    "    while B_node:\n",
    "        if A.Search(B_node.val):\n",
    "            res.Delete(B_node.val)\n",
    "        B_node = B_node.next_node\n",
    "    return res\n",
    "    "
   ]
  },
  {
   "cell_type": "code",
   "execution_count": 8,
   "id": "cacf94ce-4fc8-4d30-a07a-2aa0e2b3ece4",
   "metadata": {},
   "outputs": [
    {
     "name": "stdout",
     "output_type": "stream",
     "text": [
      "{ 1 2}\n"
     ]
    }
   ],
   "source": [
    "print(SetDifference(A, B))"
   ]
  },
  {
   "cell_type": "code",
   "execution_count": 9,
   "id": "2b531f78-c807-49e6-9441-23fd5705880c",
   "metadata": {},
   "outputs": [],
   "source": [
    "def SymDifference(A: ListSet, B: ListSet) -> ListSet:\n",
    "    return SetDifference(Union(A, B), Intersection(A, B))\n",
    "    "
   ]
  },
  {
   "cell_type": "code",
   "execution_count": 10,
   "id": "d126719a-6055-4be0-bbe7-4530ba40c780",
   "metadata": {},
   "outputs": [
    {
     "name": "stdout",
     "output_type": "stream",
     "text": [
      "{ 1 2}\n"
     ]
    }
   ],
   "source": [
    "print(SymDifference(A, B))"
   ]
  },
  {
   "cell_type": "code",
   "execution_count": 11,
   "id": "3c87e1dd-3e23-4b27-b988-d57019eeb5cc",
   "metadata": {},
   "outputs": [],
   "source": [
    "import numpy as np\n",
    "import copy\n",
    "\n",
    "def make_numbers_for_set(size: int, amount: int) -> np.ndarray:\n",
    "    start_numbers = np.arange(size)\n",
    "    shuffled_numbers = []\n",
    "    for i in range(amount):\n",
    "        np.random.shuffle(start_numbers)\n",
    "        shuffled_numbers.append(copy.deepcopy(start_numbers))\n",
    "    return shuffled_numbers\n",
    "    "
   ]
  },
  {
   "cell_type": "code",
   "execution_count": 12,
   "id": "07bb830e-d345-4ba7-a1e8-3dab0e241a29",
   "metadata": {},
   "outputs": [
    {
     "data": {
      "text/plain": [
       "[array([3, 4, 8, 2, 7, 5, 1, 0, 9, 6]), array([2, 9, 0, 3, 4, 1, 7, 6, 8, 5])]"
      ]
     },
     "execution_count": 12,
     "metadata": {},
     "output_type": "execute_result"
    }
   ],
   "source": [
    "make_numbers_for_set(10, 2)"
   ]
  },
  {
   "cell_type": "code",
   "execution_count": 13,
   "id": "51f8f4df-b7aa-43e8-b974-22cf25cadbbf",
   "metadata": {},
   "outputs": [],
   "source": [
    "def array2list(arr) -> ListSet:\n",
    "    new_ListSet = ListSet()\n",
    "    for a in arr:\n",
    "        new_ListSet.Insert(a)\n",
    "    return new_ListSet\n",
    "    "
   ]
  },
  {
   "cell_type": "code",
   "execution_count": 14,
   "id": "54b713cc-6304-48fc-b97e-5ec35cedc07c",
   "metadata": {},
   "outputs": [
    {
     "name": "stdout",
     "output_type": "stream",
     "text": [
      "{ 0 1 2 3 4}\n"
     ]
    }
   ],
   "source": [
    "print(array2list(np.arange(5)))"
   ]
  },
  {
   "cell_type": "code",
   "execution_count": 15,
   "id": "1929a517-8d79-4cce-85e2-0deb200f72c8",
   "metadata": {},
   "outputs": [
    {
     "name": "stdout",
     "output_type": "stream",
     "text": [
      "{ 640 648 667 24 741 207 153 210 798 350 645 392 444 79 856 593 7 250 860 563 552 520 398 946 128 948 555 733 540 799 225 796 60 451 537 278 567 126 678 80 661 296 310 294 372 480 971 572 847 655 424 954 312 380 932 928 441 987 141 785 187 963 464 532 598 780 154 1 18 838 209 808 202 214 374 696 378 924 221 48 201 10 955 81 753 685 528 990 57 671 710 531 801 440 160 802 584 777 279 766 632 270 262 222 161 889 762 813 616 232 972 433 866 98 155 504 21 969 55 664 973 957 975 186 695 560 97 411 530 603 309 792 183 614 299 861 146 16 843 103 131 810 514 915 435 564 515 553 285 25 653 999 468 95 781 429 842 41 150 473 989 639 595 203 108 241 899 911 687 291 84 157 413 576 366 90 832 612 182 134 189 304 237 867 323 447 471 269 597 110 167 905 805 854 677 606 385 275 962 88 177 820 937 343 541 868 579 585 180 66 582 949 735 358 620 419 159 888 705 619 663 542 211 730 930 487 337 326 554 165 760 991 70 718 859 615 121 316 529 908 759 701 387 442 516 772 352 800 944 784 550 52 329 284 171 791 539 324 926 727 498 151 624 277 738 71 722 804 301 689 27 200 848 130 73 188 605 502 322 511 421 862 293 54 505 836 268 927 39 204 724 501 634 770 461 242 839 292 233 195 475 425 964 688 175 690 215 708 35 432 281 960 239 510 199 118 12 156 272 594 893 873 933 144 196 903 561 626 87 162 280 825 978 983 125 33 311 264 249 902 489 875 764 643 289 807 748 858 788 657 328 23 236 401 750 273 348 265 253 874 721 894 548 11 430 756 230 247 185 257 672 917 865 782 869 142 551 693 507 591 878 428 305 220 647 831 679 699 382 882 931 59 168 120 338 996 414 776 449 345 495 373 122 683 436 181 364 938 660 347 365 381 853 384 93 951 307 790 837 19 339 778 465 0 109 361 578 170 665 769 916 65 633 757 998 981 767 896 543 574 830 656 445 503 483 267 855 340 317 562 245 649 890 806 719 282 581 720 979 885 650 886 303 234 164 223 297 743 100 803 462 101 734 212 629 737 761 499 628 918 549 216 958 723 714 985 91 702 745 420 898 698 8 341 897 732 427 823 744 631 488 226 659 936 491 402 148 320 607 396 391 86 377 205 749 870 711 617 77 363 621 638 857 94 14 85 460 2 34 43 238 587 481 206 190 716 349 219 497 900 974 599 478 523 386 49 302 794 117 63 779 922 388 682 538 828 666 654 412 641 872 20 458 575 404 864 376 357 970 44 707 64 731 308 637 439 76 590 887 139 492 923 827 406 586 259 966 818 5 194 409 106 62 61 390 559 517 583 456 814 993 96 51 405 332 673 809 509 99 740 227 240 700 246 228 812 136 692 706 28 877 30 455 75 545 369 601 454 512 630 327 835 535 840 351 746 577 314 556 557 437 224 58 395 747 793 486 274 45 113 434 271 851 254 669 397 950 36 725 431 713 107 997 728 822 446 78 342 184 943 443 506 920 360 592 939 613 336 691 736 371 179 452 571 635 907 288 565 319 470 644 703 642 662 676 370 129 255 145 518 819 127 334 522 925 67 459 906 315 463 40 31 4 977 670 417 982 330 610 217 243 942 415 192 477 476 929 527 912 149 980 252 525 602 331 569 884 715 892 325 783 158 105 407 399 704 850 438 29 133 354 266 988 191 895 829 3 260 622 416 287 956 111 50 26 426 826 921 496 485 994 751 841 379 609 686 754 92 588 306 74 544 961 627 104 176 580 68 355 69 674 845 135 684 881 410 173 513 244 482 913 89 729 910 123 623 526 945 566 717 213 712 362 393 758 883 22 231 469 235 775 668 787 467 174 675 519 112 490 346 546 389 178 824 15 124 13 479 919 846 258 768 596 965 935 521 816 876 6 208 940 218 984 834 448 589 172 533 276 891 143 300 163 755 534 815 680 658 568 611 422 789 38 844 536 952 573 229 771 367 47 967 56 773 697 400 166 152 466 132 359 198 353 914 941 318 261 500 197 46 344 752 774 681 765 833 283 484 403 795 968 694 763 263 53 821 947 102 986 934 368 356 333 992 72 119 871 742 418 335 321 817 37 383 959 494 726 32 251 115 618 114 524 797 646 147 408 423 625 295 9 739 193 651 547 879 904 137 286 290 953 83 995 786 138 453 248 976 450 313 140 909 558 493 709 608 901 82 570 375 880 604 636 256 863 298 508 42 17 474 849 811 394 116 600 852 472 457 652 169}\n"
     ]
    }
   ],
   "source": [
    "test_search = make_numbers_for_set(1000, 1000)\n",
    "A = []\n",
    "for a in test_search:\n",
    "    A.append(array2list(a))\n",
    "print(A[0])"
   ]
  },
  {
   "cell_type": "code",
   "execution_count": 16,
   "id": "68e98c4c-c065-4bab-b65f-c62e55bd468a",
   "metadata": {},
   "outputs": [
    {
     "name": "stdout",
     "output_type": "stream",
     "text": [
      "1.979827880859375e-05\n"
     ]
    }
   ],
   "source": [
    "import time\n",
    "\n",
    "start_time = time.time()\n",
    "for a in A:\n",
    "    a.Search(0)\n",
    "\n",
    "print((time.time()-start_time)/1000)"
   ]
  },
  {
   "cell_type": "code",
   "execution_count": 17,
   "id": "dfb2abdf-8616-4162-b5c3-3445f9f659c5",
   "metadata": {},
   "outputs": [
    {
     "name": "stdout",
     "output_type": "stream",
     "text": [
      "4.0199518203735354e-05\n"
     ]
    }
   ],
   "source": [
    "start_time = time.time()\n",
    "for a in A:\n",
    "    a.Search(1000)\n",
    "    \n",
    "print((time.time()-start_time)/1000)"
   ]
  },
  {
   "cell_type": "markdown",
   "id": "e92326e7",
   "metadata": {},
   "source": [
    "Отже запишемо все в одну функцію, яка буде приймати розмір масиву та кількість повторень"
   ]
  },
  {
   "cell_type": "code",
   "execution_count": 18,
   "id": "ed9394eb",
   "metadata": {},
   "outputs": [],
   "source": [
    "def research_search(size: int, amount: int, search_value) -> float:\n",
    "    test_search = make_numbers_for_set(size, amount)\n",
    "    A = []\n",
    "    for a in test_search:\n",
    "        A.append(array2list(a))\n",
    "    start_time = time.time()\n",
    "    for a in A:\n",
    "        a.Search(search_value)\n",
    "        \n",
    "    return (time.time()-start_time)/amount"
   ]
  },
  {
   "cell_type": "code",
   "execution_count": 19,
   "id": "c1df3d8b",
   "metadata": {},
   "outputs": [
    {
     "data": {
      "text/plain": [
       "4.0071725845336916e-05"
      ]
     },
     "execution_count": 19,
     "metadata": {},
     "output_type": "execute_result"
    }
   ],
   "source": [
    "research_search(1000, 1000, 1000)"
   ]
  },
  {
   "cell_type": "markdown",
   "id": "44151d3e",
   "metadata": {},
   "source": [
    "Час для графіку"
   ]
  },
  {
   "cell_type": "code",
   "execution_count": 20,
   "id": "e2460fac",
   "metadata": {},
   "outputs": [
    {
     "ename": "ModuleNotFoundError",
     "evalue": "No module named 'matplotlib'",
     "output_type": "error",
     "traceback": [
      "\u001b[1;31m---------------------------------------------------------------------------\u001b[0m",
      "\u001b[1;31mModuleNotFoundError\u001b[0m                       Traceback (most recent call last)",
      "Cell \u001b[1;32mIn[20], line 1\u001b[0m\n\u001b[1;32m----> 1\u001b[0m \u001b[38;5;28;01mimport\u001b[39;00m \u001b[38;5;21;01mmatplotlib\u001b[39;00m\u001b[38;5;21;01m.\u001b[39;00m\u001b[38;5;21;01mpyplot\u001b[39;00m \u001b[38;5;28;01mas\u001b[39;00m \u001b[38;5;21;01mplt\u001b[39;00m\n\u001b[0;32m      3\u001b[0m plt\u001b[38;5;241m.\u001b[39mplot([\u001b[38;5;241m1\u001b[39m, \u001b[38;5;241m1\u001b[39m], [\u001b[38;5;241m0\u001b[39m, \u001b[38;5;241m2\u001b[39m])\n",
      "\u001b[1;31mModuleNotFoundError\u001b[0m: No module named 'matplotlib'"
     ]
    }
   ],
   "source": [
    "import matplotlib.pyplot as plt\n",
    "\n",
    "plt.plot([1, 1], [0, 2])"
   ]
  },
  {
   "cell_type": "code",
   "execution_count": null,
   "id": "4e4384a5-e40c-4ab7-9303-c44ee2c6788c",
   "metadata": {},
   "outputs": [],
   "source": [
    "np.random.choice(10, 9, replace=False)\n",
    "set_for_B = []\n",
    "for i in range(1000):\n",
    "    set_for_B.append(np.random.choice(10_000, 1000, replace=False))\n",
    "set_for_C = []\n",
    "for i in range(1000):\n",
    "    set_for_C.append(np.random.choice(10_000, 1000, replace=False))"
   ]
  },
  {
   "cell_type": "code",
   "execution_count": null,
   "id": "44e8f2e1-2747-4aa4-af2a-3193b07dab1b",
   "metadata": {},
   "outputs": [],
   "source": [
    "B = []\n",
    "for b in set_for_B:\n",
    "    B.append(array2list(b))\n",
    "\n",
    "C = []\n",
    "for c in set_for_C:\n",
    "    C.append(array2list(c))"
   ]
  },
  {
   "cell_type": "code",
   "execution_count": null,
   "id": "1a4a5cc1-3840-44b9-9ec2-3814136afa84",
   "metadata": {},
   "outputs": [
    {
     "name": "stdout",
     "output_type": "stream",
     "text": [
      "0.045203981637954714\n"
     ]
    }
   ],
   "source": [
    "start_time = time.time()\n",
    "for i in range(1000):\n",
    "    Intersection(B[i], C[i])\n",
    "\n",
    "print((time.time()-start_time)/1000)"
   ]
  },
  {
   "cell_type": "markdown",
   "id": "415d55b2",
   "metadata": {},
   "source": [
    "Аналогічно як і з дослідженням функції *Search*"
   ]
  },
  {
   "cell_type": "code",
   "execution_count": null,
   "id": "dd88126f-7647-4544-8999-6c16bf257434",
   "metadata": {},
   "outputs": [],
   "source": [
    "def research_interseaction(size: int, amount: int) -> float:\n",
    "\n",
    "    set_for_B = []\n",
    "    for i in range(amount):\n",
    "        set_for_B.append(np.random.choice(size*10, size, replace=False))\n",
    "    set_for_C = []\n",
    "    for i in range(amount):\n",
    "        set_for_C.append(np.random.choice(size*10, size, replace=False))\n",
    "\n",
    "    B = []\n",
    "    for b in set_for_B:\n",
    "        B.append(array2list(b))\n",
    "\n",
    "    C = []\n",
    "    for c in set_for_C:\n",
    "        C.append(array2list(c))\n",
    "\n",
    "    start_time = time.time()\n",
    "    for i in range(amount):\n",
    "        Intersection(B[i], C[i])\n",
    "\n",
    "    return (time.time()-start_time)/amount\n"
   ]
  },
  {
   "cell_type": "code",
   "execution_count": null,
   "id": "d59bfd50",
   "metadata": {},
   "outputs": [
    {
     "data": {
      "text/plain": [
       "0.04611021327972412"
      ]
     },
     "execution_count": 47,
     "metadata": {},
     "output_type": "execute_result"
    }
   ],
   "source": [
    "research_interseaction(1000, 1000)"
   ]
  },
  {
   "cell_type": "code",
   "execution_count": null,
   "id": "5deec023",
   "metadata": {},
   "outputs": [],
   "source": []
  }
 ],
 "metadata": {
  "kernelspec": {
   "display_name": "Python 3 (ipykernel)",
   "language": "python",
   "name": "python3"
  },
  "language_info": {
   "codemirror_mode": {
    "name": "ipython",
    "version": 3
   },
   "file_extension": ".py",
   "mimetype": "text/x-python",
   "name": "python",
   "nbconvert_exporter": "python",
   "pygments_lexer": "ipython3",
   "version": "3.12.1"
  }
 },
 "nbformat": 4,
 "nbformat_minor": 5
}
